{
 "cells": [
  {
   "cell_type": "code",
   "execution_count": 85,
   "metadata": {
    "collapsed": true
   },
   "outputs": [],
   "source": [
    "import psycopg2"
   ]
  },
  {
   "cell_type": "code",
   "execution_count": 86,
   "metadata": {
    "collapsed": true
   },
   "outputs": [],
   "source": [
    "#conn = psycopg2.connect(\"host='localhost' dbname='postgres' user='postgres' password='password'\")\n",
    "#conn.autocommit = True\n",
    "#cursor = conn.cursor()\n",
    "#cursor.execute('CREATE DATABASE baseball')\n",
    "#conn.autocommit = False"
   ]
  },
  {
   "cell_type": "code",
   "execution_count": 87,
   "metadata": {
    "collapsed": true
   },
   "outputs": [],
   "source": [
    "conn = psycopg2.connect(\"host='localhost' dbname='baseball' user='postgres' password='password'\")\n",
    "conn.autocommit = True\n",
    "c = conn.cursor()"
   ]
  },
  {
   "cell_type": "code",
   "execution_count": 54,
   "metadata": {
    "collapsed": true
   },
   "outputs": [],
   "source": [
    "sql = '''\n",
    "DROP TABLE IF EXISTS ml_odds;\n",
    "CREATE TABLE if not exists ml_odds (\n",
    "    ml_odd_key           BIGSERIAL PRIMARY KEY,\n",
    "    game_id        varchar(20),\n",
    "    team           varchar(3),\n",
    "    final_flag     boolean,\n",
    "    consensus      decimal,\n",
    "    opening        integer,\n",
    "    pin            integer,\n",
    "    fiv            integer,\n",
    "    bet            integer,\n",
    "    her            integer,\n",
    "    best           integer,\n",
    "    created_at     timestamp\n",
    ");\n",
    "'''\n",
    "c.execute(sql)"
   ]
  },
  {
   "cell_type": "code",
   "execution_count": 55,
   "metadata": {
    "collapsed": false
   },
   "outputs": [],
   "source": [
    "sql = '''\n",
    "DROP TABLE IF EXISTS tot_odds;\n",
    "CREATE TABLE if not exists tot_odds (\n",
    "    tot_odd_key           BIGSERIAL PRIMARY KEY,\n",
    "    game_id        varchar(20),\n",
    "    team           varchar(3),\n",
    "    final_flag     boolean,\n",
    "    consensus      decimal,\n",
    "    opening_line   decimal,\n",
    "    opening_odds   integer,\n",
    "    pin_line       decimal,\n",
    "    pin_odds       integer,\n",
    "    fiv_line       decimal,\n",
    "    fiv_odds       integer,\n",
    "    bet_line       decimal,\n",
    "    bet_odds       integer,\n",
    "    her_line       decimal,\n",
    "    her_odds       integer,\n",
    "    created_at     timestamp\n",
    ");\n",
    "'''\n",
    "c.execute(sql)"
   ]
  },
  {
   "cell_type": "code",
   "execution_count": 56,
   "metadata": {
    "collapsed": true
   },
   "outputs": [],
   "source": [
    "sql = '''\n",
    "DROP TABLE IF EXISTS rl_odds;\n",
    "CREATE TABLE if not exists rl_odds (\n",
    "    rl_odd_key           BIGSERIAL PRIMARY KEY,\n",
    "    game_id        varchar(20),\n",
    "    team           varchar(3),\n",
    "    final_flag     boolean,\n",
    "    consensus      decimal,\n",
    "    opening_line   decimal,\n",
    "    opening_odds   integer,\n",
    "    pin_line       decimal,\n",
    "    pin_odds       integer,\n",
    "    fiv_line       decimal,\n",
    "    fiv_odds       integer,\n",
    "    bet_line       decimal,\n",
    "    bet_odds       integer,\n",
    "    her_line       decimal,\n",
    "    her_odds       integer,\n",
    "    created_at     timestamp\n",
    ");\n",
    "'''\n",
    "c.execute(sql)"
   ]
  },
  {
   "cell_type": "code",
   "execution_count": 57,
   "metadata": {
    "collapsed": true
   },
   "outputs": [],
   "source": [
    "sql = '''\n",
    "DROP TABLE IF EXISTS ff_ml_odds;\n",
    "CREATE TABLE if not exists ff_ml_odds (\n",
    "    ff_ml_odd_key           BIGSERIAL PRIMARY KEY,\n",
    "    game_id        varchar(20),\n",
    "    team           varchar(3),\n",
    "    final_flag     boolean,\n",
    "    consensus      decimal,\n",
    "    opening        integer,\n",
    "    pin            integer,\n",
    "    fiv            integer,\n",
    "    bet            integer,\n",
    "    her            integer,\n",
    "    best           integer,\n",
    "    created_at     timestamp\n",
    ");\n",
    "'''\n",
    "c.execute(sql)"
   ]
  },
  {
   "cell_type": "code",
   "execution_count": 58,
   "metadata": {
    "collapsed": true
   },
   "outputs": [],
   "source": [
    "sql = '''\n",
    "DROP TABLE IF EXISTS ff_rl_odds;\n",
    "CREATE TABLE if not exists ff_rl_odds (\n",
    "    ff_rl_odd_key           BIGSERIAL PRIMARY KEY,\n",
    "    game_id        varchar(20),\n",
    "    team           varchar(3),\n",
    "    final_flag     boolean,\n",
    "    consensus      decimal,\n",
    "    opening_line   decimal,\n",
    "    opening_odds   integer,\n",
    "    pin_line       decimal,\n",
    "    pin_odds       integer,\n",
    "    fiv_line       decimal,\n",
    "    fiv_odds       integer,\n",
    "    bet_line       decimal,\n",
    "    bet_odds       integer,\n",
    "    her_line       decimal,\n",
    "    her_odds       integer,\n",
    "    created_at     timestamp\n",
    ");\n",
    "'''\n",
    "c.execute(sql)"
   ]
  },
  {
   "cell_type": "code",
   "execution_count": 59,
   "metadata": {
    "collapsed": false
   },
   "outputs": [],
   "source": [
    "sql = '''\n",
    "DROP TABLE IF EXISTS ff_tot_odds;\n",
    "CREATE TABLE if not exists ff_tot_odds (\n",
    "    ff_tot_odd_key           BIGSERIAL PRIMARY KEY,\n",
    "    game_id        varchar(20),\n",
    "    team           varchar(3),\n",
    "    final_flag     boolean,\n",
    "    consensus      decimal,\n",
    "    opening_line   decimal,\n",
    "    opening_odds   integer,\n",
    "    pin_line       decimal,\n",
    "    pin_odds       integer,\n",
    "    fiv_line       decimal,\n",
    "    fiv_odds       integer,\n",
    "    bet_line       decimal,\n",
    "    bet_odds       integer,\n",
    "    her_line       decimal,\n",
    "    her_odds       integer,\n",
    "    created_at     timestamp\n",
    ");\n",
    "'''\n",
    "c.execute(sql)"
   ]
  },
  {
   "cell_type": "code",
   "execution_count": 60,
   "metadata": {
    "collapsed": true
   },
   "outputs": [],
   "source": [
    "sql = '''\n",
    "DROP TABLE IF EXISTS bullpens;\n",
    "CREATE TABLE if not exists bullpens (\n",
    "    bullpen_key           BIGSERIAL PRIMARY KEY,\n",
    "    game_id         varchar(20),\n",
    "    team            varchar(3),\n",
    "    player          varchar(50),\n",
    "    status          varchar(10),\n",
    "    inn_days_one    integer,\n",
    "    pit_days_one    integer,\n",
    "    inn_days_two    integer,\n",
    "    pit_days_two    integer,\n",
    "    inn_days_three  integer,\n",
    "    pit_days_three  integer,\n",
    "    inn_days_four   integer,\n",
    "    pit_days_four   integer,\n",
    "    inn_days_five   integer,\n",
    "    pit_days_five   integer,\n",
    "    created_at     timestamp\n",
    ")\n",
    "'''\n",
    "c.execute(sql)"
   ]
  },
  {
   "cell_type": "code",
   "execution_count": 88,
   "metadata": {
    "collapsed": true
   },
   "outputs": [],
   "source": [
    "sql = '''\n",
    "DROP TABLE IF EXISTS lineups;\n",
    "CREATE TABLE IF NOT EXISTS lineups (\n",
    "    lineup_key           BIGSERIAL PRIMARY KEY,\n",
    "    game_id            varchar(20),\n",
    "    final_flag         boolean,\n",
    "    team               varchar(20),\n",
    "    home_away_flag     varchar(1),\n",
    "    hit_one_name           varchar(50),\n",
    "    hit_one_pos            varchar(2),\n",
    "    hit_one_hand           varchar(1),\n",
    "    hit_two_name       varchar(50),\n",
    "    hit_two_pos        varchar(2),\n",
    "    hit_two_hand       varchar(1),\n",
    "    hit_three_name         varchar(50),\n",
    "    hit_three_pos          varchar(2),\n",
    "    hit_three_hand         varchar(1),\n",
    "    hit_four_name      varchar(50),\n",
    "    hit_four_pos       varchar(2),\n",
    "    hit_four_hand      varchar(1),\n",
    "    hit_five_name          varchar(50),\n",
    "    hit_five_pos           varchar(2),\n",
    "    hit_five_hand          varchar(1),\n",
    "    hit_six_name       varchar(50),\n",
    "    hit_six_pos        varchar(2),\n",
    "    hit_six_hand       varchar(1),\n",
    "    hit_seven_name         varchar(50),\n",
    "    hit_seven_pos          varchar(2),\n",
    "    hit_seven_hand         varchar(1),\n",
    "    hit_eight_name     varchar(50),\n",
    "    hit_eight_pos      varchar(2),\n",
    "    hit_eight_hand     varchar(1),\n",
    "    hit_nine_name          varchar(50),\n",
    "    hit_nine_pos           varchar(2),\n",
    "    hit_nine_hand          varchar(1),\n",
    "    created_at         timestamp\n",
    ")\n",
    "'''\n",
    "c.execute(sql)"
   ]
  },
  {
   "cell_type": "code",
   "execution_count": 62,
   "metadata": {
    "collapsed": true
   },
   "outputs": [],
   "source": [
    "sql = '''\n",
    "DROP TABLE IF EXISTS umpires;\n",
    "CREATE TABLE IF NOT EXISTS umpires (\n",
    "    ump_key           BIGSERIAL PRIMARY KEY,\n",
    "    game_id           varchar(20),\n",
    "    final_flag        boolean,\n",
    "    hp_ump            varchar(50),\n",
    "    fb_ump            varchar(50),\n",
    "    sb_ump            varchar(50),\n",
    "    tb_ump            varchar(50),\n",
    "    created_at        timestamp\n",
    ")\n",
    "'''\n",
    "c.execute(sql)"
   ]
  },
  {
   "cell_type": "code",
   "execution_count": 63,
   "metadata": {
    "collapsed": true
   },
   "outputs": [],
   "source": [
    "sql = '''\n",
    "DROP TABLE IF EXISTS starting_pitchers;\n",
    "CREATE TABLE IF NOT EXISTS starting_pitchers (\n",
    "    sp_key       BIGSERIAL PRIMARY KEY,\n",
    "    game_id      varchar(20),\n",
    "    final_flag   boolean,\n",
    "    name         varchar(50),\n",
    "    fg_id        varchar(6),\n",
    "    team         varchar(3),\n",
    "    ip           decimal,\n",
    "    throws       varchar(1),\n",
    "    era          decimal,\n",
    "    fip_z        decimal,\n",
    "    fip_s        decimal,\n",
    "    kwera        decimal,\n",
    "    siera        decimal,\n",
    "    xfip         decimal,\n",
    "    created_at   timestamp\n",
    ")\n",
    "'''\n",
    "c.execute(sql)"
   ]
  },
  {
   "cell_type": "code",
   "execution_count": 89,
   "metadata": {
    "collapsed": true
   },
   "outputs": [],
   "source": [
    "conn.close()"
   ]
  },
  {
   "cell_type": "code",
   "execution_count": null,
   "metadata": {
    "collapsed": true
   },
   "outputs": [],
   "source": [
    "    "
   ]
  }
 ],
 "metadata": {
  "kernelspec": {
   "display_name": "Python 3",
   "language": "python",
   "name": "python3"
  },
  "language_info": {
   "codemirror_mode": {
    "name": "ipython",
    "version": 3
   },
   "file_extension": ".py",
   "mimetype": "text/x-python",
   "name": "python",
   "nbconvert_exporter": "python",
   "pygments_lexer": "ipython3",
   "version": "3.5.1"
  }
 },
 "nbformat": 4,
 "nbformat_minor": 0
}
