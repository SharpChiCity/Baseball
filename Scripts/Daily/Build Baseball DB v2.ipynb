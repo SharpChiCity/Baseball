{
 "cells": [
  {
   "cell_type": "code",
   "execution_count": 37,
   "metadata": {
    "collapsed": true
   },
   "outputs": [],
   "source": [
    "import psycopg2"
   ]
  },
  {
   "cell_type": "code",
   "execution_count": 38,
   "metadata": {
    "collapsed": true
   },
   "outputs": [],
   "source": [
    "#conn = psycopg2.connect(\"host='localhost' dbname='postgres' user='postgres' password='password'\")\n",
    "#conn.autocommit = True\n",
    "#cursor = conn.cursor()\n",
    "#cursor.execute('CREATE DATABASE baseball')\n",
    "#conn.autocommit = False"
   ]
  },
  {
   "cell_type": "code",
   "execution_count": 39,
   "metadata": {
    "collapsed": true
   },
   "outputs": [],
   "source": [
    "conn = psycopg2.connect(\"host='localhost' dbname='baseball' user='postgres' password='password'\")\n",
    "conn.autocommit = True\n",
    "c = conn.cursor()"
   ]
  },
  {
   "cell_type": "code",
   "execution_count": 40,
   "metadata": {
    "collapsed": true
   },
   "outputs": [],
   "source": [
    "sql = '''\n",
    "DROP TABLE IF EXISTS ml_odds;\n",
    "CREATE TABLE if not exists ml_odds (\n",
    "    game_id        varchar(20),\n",
    "    final_flag     boolean,\n",
    "    consensus      decimal,\n",
    "    opening        integer,\n",
    "    pin            integer,\n",
    "    fiv            integer,\n",
    "    bet            integer,\n",
    "    her            integer,\n",
    "    best           integer\n",
    ");\n",
    "'''\n",
    "c.execute(sql)"
   ]
  },
  {
   "cell_type": "code",
   "execution_count": 41,
   "metadata": {
    "collapsed": true
   },
   "outputs": [],
   "source": [
    "sql = '''\n",
    "DROP TABLE IF EXISTS tot_odds;\n",
    "CREATE TABLE if not exists tot_odds (\n",
    "    game_id        varchar(20),\n",
    "    final_flag     boolean,\n",
    "    consensus      decimal,\n",
    "    opening        integer,\n",
    "    pin            integer,\n",
    "    fiv            integer,\n",
    "    bet            integer,\n",
    "    her            integer,\n",
    "    best           integer\n",
    ");\n",
    "'''\n",
    "c.execute(sql)"
   ]
  },
  {
   "cell_type": "code",
   "execution_count": 42,
   "metadata": {
    "collapsed": true
   },
   "outputs": [],
   "source": [
    "sql = '''\n",
    "DROP TABLE IF EXISTS rl_odds;\n",
    "CREATE TABLE if not exists rl_odds (\n",
    "    game_id        varchar(20),\n",
    "    final_flag     boolean,\n",
    "    consensus      decimal,\n",
    "    opening        integer,\n",
    "    pin            integer,\n",
    "    fiv            integer,\n",
    "    bet            integer,\n",
    "    her            integer,\n",
    "    best           integer\n",
    ");\n",
    "'''\n",
    "c.execute(sql)"
   ]
  },
  {
   "cell_type": "code",
   "execution_count": 43,
   "metadata": {
    "collapsed": true
   },
   "outputs": [],
   "source": [
    "sql = '''\n",
    "DROP TABLE IF EXISTS ff_ml_odds;\n",
    "CREATE TABLE if not exists ff_ml_odds (\n",
    "    game_id        varchar(20),\n",
    "    final_flag     boolean,\n",
    "    consensus      decimal,\n",
    "    opening        integer,\n",
    "    pin            integer,\n",
    "    fiv            integer,\n",
    "    bet            integer,\n",
    "    her            integer,\n",
    "    best           integer\n",
    ");\n",
    "'''\n",
    "c.execute(sql)"
   ]
  },
  {
   "cell_type": "code",
   "execution_count": 44,
   "metadata": {
    "collapsed": true
   },
   "outputs": [],
   "source": [
    "sql = '''\n",
    "DROP TABLE IF EXISTS ff_rl_odds;\n",
    "CREATE TABLE if not exists ff_rl_odds (\n",
    "    game_id        varchar(20),\n",
    "    final_flag     boolean,\n",
    "    consensus      decimal,\n",
    "    opening        integer,\n",
    "    pin            integer,\n",
    "    fiv            integer,\n",
    "    bet            integer,\n",
    "    her            integer,\n",
    "    best           integer\n",
    ");\n",
    "'''\n",
    "c.execute(sql)"
   ]
  },
  {
   "cell_type": "code",
   "execution_count": 45,
   "metadata": {
    "collapsed": true
   },
   "outputs": [],
   "source": [
    "sql = '''\n",
    "DROP TABLE IF EXISTS ff_tot_odds;\n",
    "CREATE TABLE if not exists ff_tot_odds (\n",
    "    game_id        varchar(20),\n",
    "    final_flag     boolean,\n",
    "    consensus      decimal,\n",
    "    opening        integer,\n",
    "    pin            integer,\n",
    "    fiv            integer,\n",
    "    bet            integer,\n",
    "    her            integer,\n",
    "    best           integer\n",
    ");\n",
    "'''\n",
    "c.execute(sql)"
   ]
  },
  {
   "cell_type": "code",
   "execution_count": 6,
   "metadata": {
    "collapsed": true
   },
   "outputs": [],
   "source": [
    "sql = '''\n",
    "DROP TABLE IF EXISTS bullpens;\n",
    "CREATE TABLE if not exists bullpens (\n",
    "    game            date,\n",
    "    final_flag      boolean,\n",
    "    team            varchar(20),\n",
    "    player          varchar(50),\n",
    "    inn_days_one    integer,\n",
    "    pit_days_one    integer,\n",
    "    inn_days_two    integer,\n",
    "    pit_days_two    integer,\n",
    "    inn_days_three  integer,\n",
    "    pit_days_three  integer,\n",
    "    inn_days_four   integer,\n",
    "    pit_days_four   integer,\n",
    "    inn_days_five   integer,\n",
    "    pit_days_five   integer,\n",
    "    status          varchar(50)\n",
    ")\n",
    "'''\n",
    "c.execute(sql)"
   ]
  },
  {
   "cell_type": "code",
   "execution_count": 7,
   "metadata": {
    "collapsed": true
   },
   "outputs": [],
   "source": [
    "sql = '''\n",
    "DROP TABLE IF EXISTS lineups;\n",
    "CREATE TABLE IF NOT EXISTS lineups (\n",
    "    game_id            varchar(31),\n",
    "    final_flag         boolean,\n",
    "    team               varchar(20),\n",
    "    home_away_flag     varchar(1),\n",
    "    hit_one_name         varchar(50),\n",
    "    hit_two_name         varchar(50),\n",
    "    hit_three_name       varchar(50),\n",
    "    hit_four_name        varchar(50),\n",
    "    hit_five_name        varchar(50),\n",
    "    hit_six_name         varchar(50),\n",
    "    hit_seven_name       varchar(50),\n",
    "    hit_eight_name       varchar(50),\n",
    "    hit_nine_name        varchar(50),\n",
    "    hit_one_pos        varchar(2),\n",
    "    hit_two_pos        varchar(2),\n",
    "    hit_three_pos      varchar(2),\n",
    "    hit_four_pos       varchar(2),\n",
    "    hit_five_pos       varchar(2),\n",
    "    hit_six_pos        varchar(2),\n",
    "    hit_seven_pos      varchar(2),\n",
    "    hit_eight_pos      varchar(2),\n",
    "    hit_nine_pos       varchar(2),\n",
    "    hit_one_hand         varchar(1),\n",
    "    hit_two_hand         varchar(1),\n",
    "    hit_three_hand       varchar(1),\n",
    "    hit_four_hand        varchar(1),\n",
    "    hit_five_hand        varchar(1),\n",
    "    hit_six_hand         varchar(1),\n",
    "    hit_seven_hand       varchar(1),\n",
    "    hit_eight_hand       varchar(1),\n",
    "    hit_nine_hand        varchar(1)\n",
    ")\n",
    "'''\n",
    "c.execute(sql)"
   ]
  },
  {
   "cell_type": "code",
   "execution_count": 8,
   "metadata": {
    "collapsed": true
   },
   "outputs": [],
   "source": [
    "sql = '''\n",
    "DROP TABLE IF EXISTS umpires;\n",
    "CREATE TABLE IF NOT EXISTS umpires (\n",
    "    ump_key           BIGSERIAL PRIMARY KEY,\n",
    "    game_id           varchar(31),\n",
    "    final_flag        boolean,\n",
    "    hp_ump            varchar(50),\n",
    "    fb_ump            varchar(50),\n",
    "    sb_ump            varchar(50),\n",
    "    tb_ump            varchar(50)\n",
    ")\n",
    "'''\n",
    "c.execute(sql)"
   ]
  },
  {
   "cell_type": "code",
   "execution_count": 9,
   "metadata": {
    "collapsed": true
   },
   "outputs": [],
   "source": [
    "sql = '''\n",
    "DROP TABLE IF EXISTS starting_pitchers;\n",
    "CREATE TABLE IF NOT EXISTS starting_pitchers (\n",
    "    sp_key          BIGSERIAL PRIMARY KEY,\n",
    "    game_id         varchar(31),\n",
    "    final_flag      boolean,\n",
    "    name            varchar(50),\n",
    "    \n",
    "    ,dat[1]\n",
    "    ,ip\n",
    "    ,throws\n",
    "    ,era\n",
    "    ,ZiPSFIP\n",
    "    ,SteamerFIP\n",
    "    ,kwERA\n",
    "    ,siera\n",
    "    ,xfip\n",
    ")\n",
    "'''\n",
    "c.execute(sql)"
   ]
  },
  {
   "cell_type": "code",
   "execution_count": 46,
   "metadata": {
    "collapsed": true
   },
   "outputs": [],
   "source": [
    "conn.close()"
   ]
  },
  {
   "cell_type": "code",
   "execution_count": null,
   "metadata": {
    "collapsed": true
   },
   "outputs": [],
   "source": []
  }
 ],
 "metadata": {
  "kernelspec": {
   "display_name": "Python 3",
   "language": "python",
   "name": "python3"
  },
  "language_info": {
   "codemirror_mode": {
    "name": "ipython",
    "version": 3
   },
   "file_extension": ".py",
   "mimetype": "text/x-python",
   "name": "python",
   "nbconvert_exporter": "python",
   "pygments_lexer": "ipython3",
   "version": "3.5.1"
  }
 },
 "nbformat": 4,
 "nbformat_minor": 0
}
